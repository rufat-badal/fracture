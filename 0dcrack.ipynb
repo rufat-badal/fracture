{
 "cells": [
  {
   "cell_type": "code",
   "execution_count": null,
   "metadata": {},
   "outputs": [],
   "source": [
    "using JuMP\n",
    "using MadNLP\n",
    "using ProgressMeter\n",
    "using CairoMakie\n",
    "import Plots.plot as pplot\n",
    "import Plots.plot! as pplot!"
   ]
  },
  {
   "cell_type": "markdown",
   "metadata": {},
   "source": [
    "Classical Lennard-Jones potential (see also https://en.wikipedia.org/wiki/Lennard-Jones_potential):\n",
    "$$\n",
    "    W_{x, x'}(r) := 4 \\left[\n",
    "        \\left(\\frac{|x - x'|}{r}\\right)^{12}\n",
    "        - \\left(\\frac{|x - x'|}{r}\\right)^6\n",
    "    \\right].\n",
    "$$"
   ]
  },
  {
   "cell_type": "markdown",
   "metadata": {},
   "source": [
    "The optimization algorithm experiences too large numbers for the above potential.\n",
    "In order to overcome this we use a slightly different Lennard-Jones type potential:\n",
    "$$\n",
    "    W_{x, x'}(r) := 4 \\left[\n",
    "        \\left(\\frac{|x - x'|}{r}\\right)^{\\color{magenta}4}\n",
    "        - \\left(\\frac{|x - x'|}{r}\\right)^{\\color{magenta}2}\n",
    "    \\right].\n",
    "$$"
   ]
  },
  {
   "cell_type": "code",
   "execution_count": null,
   "metadata": {},
   "outputs": [],
   "source": [
    "# Lennard-jones of squared distances instead of distances\n",
    "function lennard_jones(cur_dist_sq; pref_dist=1, pot_min=-1)\n",
    "    # the factor 2 assures that the global\n",
    "    # minimum is attained at cur_dist == pref_dist\n",
    "    q = pref_dist^2/(2*cur_dist_sq)\n",
    "    -4*pot_min*(\n",
    "        q^2 - q\n",
    "    )\n",
    "end"
   ]
  },
  {
   "cell_type": "code",
   "execution_count": null,
   "metadata": {},
   "outputs": [],
   "source": [
    "pot_min = -4\n",
    "pref_dist = 1.5\n",
    "xs = range(pref_dist/2, 10, length=1000)\n",
    "f(r) = lennard_jones(r, pref_dist=pref_dist, pot_min=pot_min)\n",
    "ys = f.(xs.^2)\n",
    "pplot(xs, ys, ylims=(pot_min-0.5, 7), label=nothing)"
   ]
  },
  {
   "cell_type": "code",
   "execution_count": null,
   "metadata": {},
   "outputs": [],
   "source": [
    "N = 30\n",
    "max_stretch = 0.25\n",
    "time_stretch = 2\n",
    "time_pause = 0.25\n",
    "time_horizon = time_stretch + time_pause\n",
    "fps = 120\n",
    "pref_dist = 1/(N-1)\n",
    "pot_min = -1.\n",
    "elastic_thresh = 2*pref_dist\n",
    "search_rad = 1.\n",
    "diss_coeff = 1.\n",
    "alpha = 100\n",
    "eps = pref_dist/10\n",
    "animation_width = 800\n",
    "file_name = \"crack_evol\"\n",
    "with_plasticity = true\n",
    "two_sided_pull = true"
   ]
  },
  {
   "cell_type": "code",
   "execution_count": null,
   "metadata": {},
   "outputs": [],
   "source": [
    "function dirichlet_delta(t; max_stretch=1, time_stretch=1, time_pause=1.5)\n",
    "    # max_stretch*sin(2*pi/time_horizon*t)\n",
    "    if t <= time_stretch\n",
    "        return max_stretch*t/time_stretch\n",
    "    else\n",
    "        return max_stretch\n",
    "    end\n",
    "end\n",
    "g_right(t) = 1 + dirichlet_delta(t; max_stretch=max_stretch, time_stretch=time_stretch, time_pause=time_pause)\n",
    "if two_sided_pull\n",
    "    g_left(t) = -dirichlet_delta(t; max_stretch=max_stretch, time_stretch=time_stretch, time_pause=time_pause)\n",
    "else\n",
    "    g_left(t) = 0\n",
    "end\n",
    "xs = range(0, time_horizon, length=1000)\n",
    "ys = g_right.(xs)\n",
    "pplot(xs, ys, ylims=(0, 1 + max_stretch), label=nothing)"
   ]
  },
  {
   "cell_type": "code",
   "execution_count": null,
   "metadata": {},
   "outputs": [],
   "source": [
    "soft_max(x, y) = (x*exp(alpha*x) + y*exp(alpha*y)) / \n",
    "    (exp(alpha*x) + exp(alpha*y))\n",
    "xs = range(-2., 2., length=1000)\n",
    "soft_ys = [soft_max(x, 0.) for x in xs]\n",
    "ys = [max(x, 0.) for x in xs]\n",
    "pplot(xs, soft_ys, label=\"soft_+\", legend=:topleft)\n",
    "pplot!(xs, ys, label=\"+\")"
   ]
  },
  {
   "cell_type": "code",
   "execution_count": null,
   "metadata": {},
   "outputs": [],
   "source": [
    "step = 2\n",
    "minmove = Model(\n",
    "    optimizer_with_attributes(\n",
    "        MadNLP.Optimizer,\n",
    "        \"print_level\" => MadNLP.WARN,\n",
    "        \"blas_num_threads\" => 4\n",
    "    )\n",
    ")\n",
    "\n",
    "@NLparameter(minmove, prev_y[i=1:N] == (i-1)/(N-1))\n",
    "if with_plasticity\n",
    "    @NLparameter(minmove, max_elong_sq[i=1:N-1] == 1/(N-1)^2)\n",
    "end\n",
    "\n",
    "@variable(\n",
    "    minmove,\n",
    "    value(prev_y[i]) - search_rad <= y[i=1:N] <= value(prev_y[i]) + search_rad,\n",
    "    start=value(prev_y[i])\n",
    ")\n",
    "\n",
    "# Dirichlet condition on the right endpoint\n",
    "@constraint(\n",
    "    minmove, dirichlet_right,\n",
    "    y[N] == g_right((step-1)/fps)\n",
    ")\n",
    "@constraint(\n",
    "    minmove, dirichlet_left,\n",
    "    y[1] == g_left((step-1)/fps)\n",
    ")\n",
    "# Regularization\n",
    "@constraint(\n",
    "    minmove, pos_det[i=1:N-1],\n",
    "    y[i+1] - y[i] >= eps\n",
    ")\n",
    "\n",
    "@expression(minmove, dist_sq[i=1:N-1], (y[i+1] - y[i])^2)\n",
    "# Explicitely write out the softmax\n",
    "if with_plasticity\n",
    "    @NLexpression(\n",
    "        minmove, damaged_dist_sq[i=1:N-1],\n",
    "        (dist_sq[i]*exp(alpha*dist_sq[i]) + max_elong_sq[i]*exp(alpha*max_elong_sq[i])) /\n",
    "            (exp(alpha*dist_sq[i]) + exp(alpha*max_elong_sq[i]))\n",
    "    )\n",
    "else\n",
    "    @NLexpression(minmove, damaged_dist_sq[i=1:N-1], dist_sq[i])\n",
    "end\n",
    "W(d) = lennard_jones(d, pref_dist=pref_dist, pot_min=pot_min)\n",
    "register(minmove, :W, 1, W, autodiff = true)\n",
    "@NLexpression(\n",
    "    minmove, energy, \n",
    "    .5/(N-1)*sum(W(damaged_dist_sq[i]) for i in 1:N-1)\n",
    ")\n",
    "@NLexpression(\n",
    "    minmove, dissipation,\n",
    "    .5/N*sum((y[i] - prev_y[i])^2 for i in 1:N)\n",
    ")\n",
    "@NLobjective(minmove, Min, energy + diss_coeff*fps*dissipation)\n",
    "\n",
    "minmove"
   ]
  },
  {
   "cell_type": "code",
   "execution_count": null,
   "metadata": {},
   "outputs": [],
   "source": [
    "optimize!(minmove)"
   ]
  },
  {
   "cell_type": "code",
   "execution_count": null,
   "metadata": {},
   "outputs": [],
   "source": [
    "xs = range(0, 1, length=N)\n",
    "pplot(xs, value.(prev_y), label=\"prev_y\", legend=:topleft)\n",
    "pplot!(xs, value.(y), label=\"y\")"
   ]
  },
  {
   "cell_type": "code",
   "execution_count": null,
   "metadata": {},
   "outputs": [],
   "source": [
    "function get_energy(y)\n",
    "    N = length(y)\n",
    "    0.5/(N-1)*sum(W.((y[2:end]-y[1:end-1]).^2))\n",
    "end\n",
    "abs(get_energy(value.(y)) - value(energy))"
   ]
  },
  {
   "cell_type": "code",
   "execution_count": null,
   "metadata": {},
   "outputs": [],
   "source": [
    "function get_dissipation(y, prev_y)\n",
    "    N = length(y)\n",
    "    0.5/N*sum((y - prev_y).^2)\n",
    "end\n",
    "abs(get_dissipation(value.(y), value.(prev_y)) - value(dissipation))"
   ]
  },
  {
   "cell_type": "code",
   "execution_count": null,
   "metadata": {},
   "outputs": [],
   "source": [
    "function get_total(y, prev_y, fps, diss_coeff)\n",
    "    get_energy(y) + fps*diss_coeff*get_dissipation(y, prev_y)\n",
    "end\n",
    "abs(get_total(value.(y), value.(prev_y), fps, diss_coeff) - objective_value(minmove))"
   ]
  },
  {
   "cell_type": "code",
   "execution_count": null,
   "metadata": {},
   "outputs": [],
   "source": [
    "get_total(value.(y), value.(prev_y), fps, diss_coeff)"
   ]
  },
  {
   "cell_type": "code",
   "execution_count": null,
   "metadata": {},
   "outputs": [],
   "source": [
    "y_comp_inst = [(i-1)/(N-1) for i in 1:N]\n",
    "y_comp_inst[N] = g((step-1)*time_horizon/fps)\n",
    "get_total(y_comp_inst, value.(prev_y), fps, diss_coeff)"
   ]
  },
  {
   "cell_type": "code",
   "execution_count": null,
   "metadata": {},
   "outputs": [],
   "source": [
    "interv_len = g((step-1)*time_horizon/fps)\n",
    "y_comp_hom = [(i-1)*interv_len/(N-1) for i in 1:N]\n",
    "get_total(y_comp_hom, value.(prev_y), fps, diss_coeff)"
   ]
  },
  {
   "cell_type": "code",
   "execution_count": null,
   "metadata": {},
   "outputs": [],
   "source": [
    "minmoves = [value.(prev_y), value.(y)]"
   ]
  },
  {
   "cell_type": "code",
   "execution_count": null,
   "metadata": {},
   "outputs": [],
   "source": [
    "@showprogress \"Computing minmoves...\" for step in 3:fps*time_horizon\n",
    "    # update maximal elongation\n",
    "    yval = value.(y)\n",
    "    comp_max_elong_sq = (yval[2:end] - yval[1:end-1]).^2\n",
    "    new_max_elong_sq = max(value.(max_elong_sq), comp_max_elong_sq)\n",
    "    set_value.(max_elong_sq, new_max_elong_sq)\n",
    "    \n",
    "    set_value.(prev_y, value.(y))\n",
    "    \n",
    "    set_normalized_rhs(dirichlet_right, g_right((step-1)/fps))\n",
    "    set_normalized_rhs(dirichlet_left, g_left((step-1)/fps))\n",
    "    \n",
    "    optimize!(minmove)\n",
    "    \n",
    "    push!(minmoves, value.(y))\n",
    "end"
   ]
  },
  {
   "cell_type": "code",
   "execution_count": null,
   "metadata": {},
   "outputs": [],
   "source": [
    "function y_monotone(y)\n",
    "    if length(y) < 3\n",
    "        return false\n",
    "    end\n",
    "    d = y[2] - y[1]\n",
    "    for i in 3:length(y)\n",
    "        new_d = y[3] - y[2]\n",
    "        if new_d < d\n",
    "            return false\n",
    "        end\n",
    "        d = new_d\n",
    "    end\n",
    "    return true\n",
    "end"
   ]
  },
  {
   "cell_type": "code",
   "execution_count": null,
   "metadata": {},
   "outputs": [],
   "source": [
    "for (i, y) in enumerate(minmoves)\n",
    "    if !y_monotone(y)\n",
    "        println(i)\n",
    "        break\n",
    "    end\n",
    "end"
   ]
  },
  {
   "cell_type": "code",
   "execution_count": null,
   "metadata": {},
   "outputs": [],
   "source": [
    "function animate_steps(minmoves, file_name; fps=30, width=800)\n",
    "    folder_path = \"experiments\"\n",
    "    if !ispath(folder_path)\n",
    "        mkdir(folder_path)\n",
    "    end\n",
    "    \n",
    "    aspect = 4.5\n",
    "    ax_aspect = 6\n",
    "    height = width/aspect\n",
    "    max_right = maximum([y[end] for y in minmoves])\n",
    "    min_left = minimum([y[1] for y in minmoves])\n",
    "    max_len = max_right - min_left\n",
    "    ax_height = max_len/ax_aspect\n",
    "    N = length(minmoves[1])\n",
    "    \n",
    "    fig = Figure(resolution=(width, 200))\n",
    "    ax = Axis(fig[1, 1], limits=(min_left-.1, max_right+.1, -ax_height/2, ax_height/2), aspect=ax_aspect)\n",
    "    \n",
    "    y = zeros(N)\n",
    "    \n",
    "    record(fig, \"experiments/$file_name\", minmoves; framerate = fps) do (x)\n",
    "        empty!(ax)\n",
    "        scatter!(x, y, color=:blue, markersize=4)\n",
    "    end\n",
    "end"
   ]
  },
  {
   "cell_type": "code",
   "execution_count": null,
   "metadata": {},
   "outputs": [],
   "source": [
    "animate_steps(minmoves, \"$file_name.mp4\", fps=60, width=animation_width)"
   ]
  }
 ],
 "metadata": {
  "kernelspec": {
   "display_name": "Julia 1.7.2",
   "language": "julia",
   "name": "julia-1.7"
  },
  "language_info": {
   "file_extension": ".jl",
   "mimetype": "application/julia",
   "name": "julia",
   "version": "1.7.2"
  }
 },
 "nbformat": 4,
 "nbformat_minor": 2
}
