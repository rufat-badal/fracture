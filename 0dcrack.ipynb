{
 "cells": [
  {
   "cell_type": "code",
   "execution_count": null,
   "metadata": {},
   "outputs": [],
   "source": [
    "using Plots\n",
    "using JuMP\n",
    "using MadNLP\n",
    "using ProgressMeter"
   ]
  },
  {
   "cell_type": "markdown",
   "metadata": {},
   "source": [
    "Classical Lennard-Jones potential (see also https://en.wikipedia.org/wiki/Lennard-Jones_potential):\n",
    "$$\n",
    "    W_{x, x'}(r) \\coloneqq 4 \\left[\n",
    "        \\left(\\frac{r}{|x - x'|}\\right)^{12}\n",
    "        - \\left(\\frac{r}{|x - x'|}\\right)^6\n",
    "    \\right].\n",
    "$$"
   ]
  },
  {
   "cell_type": "code",
   "execution_count": null,
   "metadata": {},
   "outputs": [],
   "source": [
    "function lennard_jones_classical(cur_dist; pref_dist=1, pot_min=-1)\n",
    "    # the factor 2^(1/6) assures that the global\n",
    "    # minimum is attained at cur_dist == pref_dist\n",
    "    q = pref_dist/(2^(1/6)*cur_dist)\n",
    "    -4*pot_min*(\n",
    "        q^12 - q^6\n",
    "    )\n",
    "end"
   ]
  },
  {
   "cell_type": "code",
   "execution_count": null,
   "metadata": {},
   "outputs": [],
   "source": [
    "pot_min = -2\n",
    "pref_dist = 1.5\n",
    "xs = range(pref_dist/2, 5, length=1000)\n",
    "f(r) = lennard_jones_classical(r, pref_dist=pref_dist, pot_min=pot_min)\n",
    "ys = f.(xs)\n",
    "plot(xs, ys, ylims=(pot_min-0.5, 7))"
   ]
  },
  {
   "cell_type": "code",
   "execution_count": null,
   "metadata": {},
   "outputs": [],
   "source": []
  }
 ],
 "metadata": {
  "kernelspec": {
   "display_name": "Julia 1.7.3",
   "language": "julia",
   "name": "julia-1.7"
  },
  "language_info": {
   "file_extension": ".jl",
   "mimetype": "application/julia",
   "name": "julia",
   "version": "1.7.3"
  },
  "orig_nbformat": 4
 },
 "nbformat": 4,
 "nbformat_minor": 2
}
