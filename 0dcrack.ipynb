{
 "cells": [
  {
   "cell_type": "code",
   "execution_count": null,
   "metadata": {},
   "outputs": [],
   "source": [
    "using Plots\n",
    "using JuMP\n",
    "using MadNLP\n",
    "using ProgressMeter"
   ]
  },
  {
   "cell_type": "markdown",
   "metadata": {},
   "source": [
    "Classical Lennard-Jones potential (see also https://en.wikipedia.org/wiki/Lennard-Jones_potential):\n",
    "$$\n",
    "    W_{x, x'}(r) := 4 \\left[\n",
    "        \\left(\\frac{r}{|x - x'|}\\right)^{12}\n",
    "        - \\left(\\frac{r}{|x - x'|}\\right)^6\n",
    "    \\right].\n",
    "$$"
   ]
  },
  {
   "cell_type": "code",
   "execution_count": null,
   "metadata": {},
   "outputs": [],
   "source": [
    "# Lennard-jones of squared distances!\n",
    "function lennard_jones(cur_dist_sq; pref_dist_sq=1, pot_min=-1)\n",
    "    # the factor 2^(1/6) assures that the global\n",
    "    # minimum is attained at cur_dist == pref_dist\n",
    "    q = pref_dist_sq/(2^(1/3)*cur_dist_sq)\n",
    "    -4*pot_min*(\n",
    "        q^6 - q^3\n",
    "    )\n",
    "end"
   ]
  },
  {
   "cell_type": "code",
   "execution_count": null,
   "metadata": {},
   "outputs": [],
   "source": [
    "pot_min = -2\n",
    "pref_dist = 1.5\n",
    "xs = range(pref_dist/2, 5, length=1000)\n",
    "f(r) = lennard_jones(r, pref_dist_sq=pref_dist^2, pot_min=pot_min)\n",
    "ys = f.(xs.^2)\n",
    "plot(xs, ys, ylims=(pot_min-0.5, 7), label=\"W\")"
   ]
  },
  {
   "cell_type": "code",
   "execution_count": null,
   "metadata": {},
   "outputs": [],
   "source": [
    "N = 4\n",
    "max_stretch = .5\n",
    "time_horizon = 1.\n",
    "fps = 30\n",
    "pref_dist = 1/(N-1)\n",
    "pot_min = -1.\n",
    "elastic_thresh = 2*pref_dist\n",
    "search_rad = 1.\n",
    "diss_coeff = 1.\n",
    "soft_max_alpha = 1e1\n",
    "eps = 0.5*pref_dist"
   ]
  },
  {
   "cell_type": "code",
   "execution_count": null,
   "metadata": {},
   "outputs": [],
   "source": [
    "function dirichlet_bdry_cond(t; max_stretch=1, time_horizon=1)\n",
    "    max_stretch*sin(2*pi/time_horizon*t)\n",
    "end\n",
    "g(t) = 1 + dirichlet_bdry_cond(t; max_stretch=max_stretch, time_horizon=time_horizon)\n",
    "xs = range(0, 1, length=1000)\n",
    "ys = g.(xs)\n",
    "plot(xs, ys, label=\"g\", ylims=(0, 1 + max_stretch))"
   ]
  },
  {
   "cell_type": "code",
   "execution_count": null,
   "metadata": {},
   "outputs": [],
   "source": [
    "soft_max(x, y) = (x*exp(soft_max_alpha*x) + y*exp(soft_max_alpha*y)) / \n",
    "    (exp(soft_max_alpha*x) + exp(soft_max_alpha*y))\n",
    "xs = range(-2., 2., length=1000)\n",
    "ys = [soft_max(x, 0.) for x in xs]\n",
    "plot(xs, ys)"
   ]
  },
  {
   "cell_type": "code",
   "execution_count": null,
   "metadata": {},
   "outputs": [],
   "source": [
    "step = 1\n",
    "minmove = Model(\n",
    "    optimizer_with_attributes(\n",
    "        MadNLP.Optimizer,\n",
    "#         \"print_level\" => MadNLP.WARN,\n",
    "        \"blas_num_threads\" => 4\n",
    "    )\n",
    ")\n",
    "\n",
    "@NLparameter(minmove, prev_y[i=1:N] == (i-1)*pref_dist)\n",
    "@NLparameter(minmove, max_elong_sq[i=1:N-1] == pref_dist^2)\n",
    "\n",
    "@variable(\n",
    "    minmove, \n",
    "    value(prev_y[i]) - search_rad <= y[i=1:N] <= value(prev_y[i]) + search_rad\n",
    ")\n",
    "\n",
    "# Dirichlet condition on the right endpoint\n",
    "@constraint(\n",
    "    minmove, dirichlet,\n",
    "    y[N] == g(step*time_horizon/fps)\n",
    ")\n",
    "# Regularization to avoid large values\n",
    "@expression(minmove, dist_sq[i=1:N-1], (y[i+1] - y[i])^2)\n",
    "@constraint(\n",
    "    minmove, dist_sq_nonzero[i=1:N-1],\n",
    "    dist_sq[i] >= eps^2\n",
    ")\n",
    "\n",
    "register(minmove, :soft_max, 2, soft_max; autodiff = true)\n",
    "# @NLexpression(\n",
    "#     minmove, damaged_dist_sq[i=1:N-1],\n",
    "#     soft_max((y[i+1] - y[i])^2, max_elong_sq[i])\n",
    "# )\n",
    "@NLexpression(minmove, damaged_dist_sq[i=1:N-1], dist_sq[i])\n",
    "W(dist_sq) = lennard_jones(dist_sq, pref_dist_sq=pref_dist^2, pot_min=pot_min)\n",
    "register(minmove, :W, 1, W, autodiff = true)\n",
    "@NLexpression(\n",
    "    minmove, energy, \n",
    "    .5*sum(W(damaged_dist_sq[i]) for i in 1:N-1)\n",
    ")\n",
    "@NLexpression(\n",
    "    minmove, dissipation,\n",
    "    .5*sum((y[i] - prev_y[i])^2 for i in 1:N)\n",
    ")\n",
    "@NLobjective(minmove, Min, energy + diss_coeff*fps*dissipation)\n",
    "\n",
    "minmove"
   ]
  },
  {
   "cell_type": "code",
   "execution_count": null,
   "metadata": {},
   "outputs": [],
   "source": [
    "optimize!(minmove)"
   ]
  },
  {
   "cell_type": "code",
   "execution_count": null,
   "metadata": {},
   "outputs": [],
   "source": [
    "xs = range(0, 1, length=N)\n",
    "ys = value.(y)\n",
    "plot(xs, ys)"
   ]
  },
  {
   "cell_type": "code",
   "execution_count": null,
   "metadata": {},
   "outputs": [],
   "source": [
    "g(step*time_horizon/fps)"
   ]
  },
  {
   "cell_type": "code",
   "execution_count": null,
   "metadata": {},
   "outputs": [],
   "source": [
    "value.(ys)"
   ]
  },
  {
   "cell_type": "code",
   "execution_count": null,
   "metadata": {},
   "outputs": [],
   "source": [
    "value(dissipation)"
   ]
  },
  {
   "cell_type": "code",
   "execution_count": null,
   "metadata": {},
   "outputs": [],
   "source": [
    "value(energy)"
   ]
  },
  {
   "cell_type": "code",
   "execution_count": null,
   "metadata": {},
   "outputs": [],
   "source": []
  }
 ],
 "metadata": {
  "kernelspec": {
   "display_name": "Julia 1.7.3",
   "language": "julia",
   "name": "julia-1.7"
  },
  "language_info": {
   "file_extension": ".jl",
   "mimetype": "application/julia",
   "name": "julia",
   "version": "1.7.3"
  }
 },
 "nbformat": 4,
 "nbformat_minor": 2
}
