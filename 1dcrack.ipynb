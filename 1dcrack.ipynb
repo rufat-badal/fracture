{
 "cells": [
  {
   "cell_type": "code",
   "execution_count": null,
   "metadata": {},
   "outputs": [],
   "source": [
    "using JuMP\n",
    "using MadNLP\n",
    "using ProgressMeter\n",
    "using CairoMakie\n",
    "import Plots.plot as pplot\n",
    "import Plots.plot! as pplot!"
   ]
  },
  {
   "cell_type": "markdown",
   "metadata": {},
   "source": [
    "Classical Lennard-Jones potential (see also https://en.wikipedia.org/wiki/Lennard-Jones_potential):\n",
    "$$\n",
    "    W_{x, x'}(r) := 4 \\left[\n",
    "        \\left(\\frac{|x - x'|}{r}\\right)^{12}\n",
    "        - \\left(\\frac{|x - x'|}{r}\\right)^6\n",
    "    \\right].\n",
    "$$"
   ]
  },
  {
   "cell_type": "markdown",
   "metadata": {},
   "source": [
    "The optimization algorithm experiences too large numbers for the above potential.\n",
    "In order to overcome this we use a slightly different Lennard-Jones type potential:\n",
    "$$\n",
    "    W_{x, x'}(r) := 4 \\left[\n",
    "        \\left(\\frac{|x - x'|}{r}\\right)^{\\color{magenta}4}\n",
    "        - \\left(\\frac{|x - x'|}{r}\\right)^{\\color{magenta}2}\n",
    "    \\right].\n",
    "$$"
   ]
  },
  {
   "cell_type": "code",
   "execution_count": null,
   "metadata": {},
   "outputs": [],
   "source": [
    "# Lennard-jones of squared distances instead of distances\n",
    "function lennard_jones(cur_dist_sq; pref_dist=1, pot_min=-1)\n",
    "    # the factor 2 assures that the global\n",
    "    # minimum is attained at cur_dist == pref_dist\n",
    "    q = pref_dist^2/(2*cur_dist_sq)\n",
    "    -4*pot_min*(q^2 - q)\n",
    "end"
   ]
  },
  {
   "cell_type": "code",
   "execution_count": null,
   "metadata": {},
   "outputs": [],
   "source": [
    "pot_min = -4\n",
    "pref_dist = 1.5\n",
    "xs = range(pref_dist/2, 10, length=1000)\n",
    "f(r) = lennard_jones(r, pref_dist=pref_dist, pot_min=pot_min)\n",
    "ys = f.(xs.^2)\n",
    "pplot(xs, ys, ylims=(pot_min-0.5, 7), label=nothing)"
   ]
  },
  {
   "cell_type": "code",
   "execution_count": null,
   "metadata": {},
   "outputs": [],
   "source": [
    "N = 20\n",
    "max_stretch = 0.7\n",
    "time_stretch = 2.5\n",
    "time_pause = 0.25\n",
    "time_horizon = time_stretch + time_pause\n",
    "fps = 120\n",
    "pref_dist = 1/(N-1)\n",
    "break_dist = 2*pref_dist\n",
    "break_dist = 2* pref_dist\n",
    "pot_min = -1.\n",
    "elastic_thresh = 2*pref_dist\n",
    "search_rad = 1.\n",
    "diss_coeff = 1.\n",
    "alpha = 100\n",
    "eps = pref_dist/10\n",
    "animation_width = 800\n",
    "hidpi_scaling = 4\n",
    "file_name = \"crack_evol\"\n",
    "two_sided_pull = true\n",
    "fontsize = 16\n",
    "only_video = true"
   ]
  },
  {
   "cell_type": "code",
   "execution_count": null,
   "metadata": {},
   "outputs": [],
   "source": [
    "function dirichlet_delta(t; max_stretch=1, time_stretch=1, time_pause=1.5)\n",
    "    # max_stretch*sin(2*pi/time_horizon*t)\n",
    "    if t <= time_stretch\n",
    "        return max_stretch*t/time_stretch\n",
    "    else\n",
    "        return max_stretch\n",
    "    end\n",
    "end\n",
    "g_right(t) = 1 + dirichlet_delta(t; max_stretch=max_stretch, time_stretch=time_stretch, time_pause=time_pause)\n",
    "if two_sided_pull\n",
    "    g_left(t) = -dirichlet_delta(t; max_stretch=max_stretch, time_stretch=time_stretch, time_pause=time_pause)\n",
    "else\n",
    "    g_left(t) = 0\n",
    "end\n",
    "xs = range(0, time_horizon, length=1000)\n",
    "ys = g_right.(xs)\n",
    "ymin = two_sided_pull ? -max_stretch : 0\n",
    "pplot(xs, g_right.(xs), ylims=(ymin -.1, 1 + max_stretch + .1), label=\"g_right\")\n",
    "pplot!(xs, g_left.(xs), ylims=(ymin -.1, 1 + max_stretch + .1), label=\"g_left\")"
   ]
  },
  {
   "cell_type": "code",
   "execution_count": null,
   "metadata": {},
   "outputs": [],
   "source": [
    "soft_max(x, y) = (x*exp(alpha*x) + y*exp(alpha*y)) / \n",
    "    (exp(alpha*x) + exp(alpha*y))\n",
    "xs = range(-2., 2., length=1000)\n",
    "soft_ys = [soft_max(x, 0.) for x in xs]\n",
    "ys = [max(x, 0.) for x in xs]\n",
    "pplot(xs, soft_ys, label=\"soft_+\", legend=:topleft)\n",
    "pplot!(xs, ys, label=\"+\")"
   ]
  },
  {
   "cell_type": "code",
   "execution_count": null,
   "metadata": {},
   "outputs": [],
   "source": [
    "step = 2\n",
    "minmove_l2 = Model(\n",
    "    optimizer_with_attributes(\n",
    "        MadNLP.Optimizer,\n",
    "        \"print_level\" => MadNLP.WARN,\n",
    "        \"blas_num_threads\" => 4\n",
    "    )\n",
    ")\n",
    "\n",
    "# TODO: use macros instead (not very important)\n",
    "@NLparameter(minmove_l2, prev_y[i=1:N] == (i-1)/(N-1))\n",
    "@NLparameter(minmove_l2, max_elong_sq[i=1:N-1] == 1/(N-1)^2)\n",
    "@NLparameter(minmove_l2, broken[i=1:N-1] == 0.)\n",
    "\n",
    "\n",
    "@variable(\n",
    "    minmove_l2,\n",
    "    value(prev_y[i]) - search_rad <= y[i=1:N] <= value(prev_y[i]) + search_rad,\n",
    "    start=value(prev_y[i])\n",
    ")\n",
    "\n",
    "# Dirichlet condition on the right endpoint\n",
    "# TODO: do not keep y[1] and y[N] as optimization variables \n",
    "# as their value is predetermined.\n",
    "@constraint(\n",
    "    minmove_l2, dirichlet_right,\n",
    "    y[N] == g_right((step-1)/fps)\n",
    ")\n",
    "@constraint(\n",
    "    minmove_l2, dirichlet_left,\n",
    "    y[1] == g_left((step-1)/fps)\n",
    ")\n",
    "\n",
    "# Regularization (maybe not even needed):\n",
    "# distance between neighboring atoms cannot\n",
    "# go below a certain value\n",
    "@constraint(\n",
    "    minmove_l2, min_dist[i=1:N-1],\n",
    "    y[i+1] - y[i] >= eps\n",
    ")\n",
    "\n",
    "# Define the energy\n",
    "@expression(minmove_l2, dist_sq[i=1:N-1], (y[i+1] - y[i])^2)\n",
    "# Explicitely write out the softmax\n",
    "@NLexpression(\n",
    "    minmove_l2, damaged_dist_sq[i=1:N-1],\n",
    "    (\n",
    "        dist_sq[i]*exp(alpha*dist_sq[i]) \n",
    "        + broken[i]*max_elong_sq[i]*exp(alpha*broken[i]*max_elong_sq[i])\n",
    "    ) / (exp(alpha*dist_sq[i]) + exp(alpha*broken[i]*max_elong_sq[i]))\n",
    ")\n",
    "W(d) = lennard_jones(d, pref_dist=pref_dist, pot_min=pot_min)\n",
    "register(minmove_l2, :W, 1, W, autodiff = true)\n",
    "@NLexpression(\n",
    "    minmove_l2, energy, \n",
    "    .5/(N-1)*sum(W(damaged_dist_sq[i]) for i in 1:N-1)\n",
    ")\n",
    "\n",
    "# dissipation\n",
    "@NLexpression(\n",
    "    minmove_l2, dissipation,\n",
    "    .5/N*sum((y[i] - prev_y[i])^2 for i in 2:N-1)\n",
    ")\n",
    "@NLobjective(minmove_l2, Min, energy + diss_coeff*fps*dissipation)\n",
    "\n",
    "minmove_l2"
   ]
  },
  {
   "cell_type": "code",
   "execution_count": null,
   "metadata": {},
   "outputs": [],
   "source": [
    "# step = 2\n",
    "# minmove_l2 = Model(MadNLP.Optimizer)\n",
    "\n",
    "# @NLparameter(minmove_l2, prev_y[i=1:N] == (i-1)/(N-1))\n",
    "\n",
    "# @variable(\n",
    "#     minmove_l2,\n",
    "#     value(prev_y[i]) - search_rad <= y[i=1:N] <= value(prev_y[i]) + search_rad,\n",
    "#     start=value(prev_y[i])\n",
    "# )\n",
    "\n",
    "\n",
    "# @constraint(\n",
    "#     minmove_l2, dirichlet_right,\n",
    "#     y[N] == g_right((step-1)/fps)\n",
    "# )\n",
    "# @constraint(\n",
    "#     minmove_l2, dirichlet_left,\n",
    "#     y[1] == g_left((step-1)/fps)\n",
    "# )\n",
    "\n",
    "# @expression(minmove_l2, dist_sq[i=1:N-1], (y[i+1] - y[i])^2)\n",
    "# @NLexpression(\n",
    "#     minmove_l2, energy, \n",
    "#     .5/(N-1)*sum(dist_sq[i] for i in 1:N-1)\n",
    "# )\n",
    "\n",
    "# @NLexpression(\n",
    "#     minmove_l2, dissipation,\n",
    "#     .5/N*sum((y[i] - prev_y[i])^2 for i in 2:N-1)\n",
    "# )\n",
    "# @NLobjective(minmove_l2, Min, energy + diss_coeff*fps*dissipation)\n",
    "\n",
    "# minmove_l2"
   ]
  },
  {
   "cell_type": "code",
   "execution_count": null,
   "metadata": {},
   "outputs": [],
   "source": [
    "optimize!(minmove_l2)"
   ]
  },
  {
   "cell_type": "code",
   "execution_count": null,
   "metadata": {},
   "outputs": [],
   "source": [
    "function get_energy(y)\n",
    "    N = length(y)\n",
    "    0.5/(N-1)*sum(W.((y[2:end]-y[1:end-1]).^2))\n",
    "end\n",
    "abs(get_energy(value.(y)) - value(energy))"
   ]
  },
  {
   "cell_type": "code",
   "execution_count": null,
   "metadata": {},
   "outputs": [],
   "source": [
    "function get_dissipation(y, prev_y)\n",
    "    N = length(y)\n",
    "    0.5/N*sum((y - prev_y).^2)\n",
    "end\n",
    "abs(get_dissipation(value.(y), value.(prev_y)) - value(dissipation))"
   ]
  },
  {
   "cell_type": "code",
   "execution_count": null,
   "metadata": {},
   "outputs": [],
   "source": [
    "function get_total(y, prev_y, fps, diss_coeff)\n",
    "    get_energy(y) + fps*diss_coeff*get_dissipation(y, prev_y)\n",
    "end\n",
    "abs(get_total(value.(y), value.(prev_y), fps, diss_coeff) - objective_value(minmove_l2))"
   ]
  },
  {
   "cell_type": "code",
   "execution_count": null,
   "metadata": {},
   "outputs": [],
   "source": [
    "get_total(value.(y), value.(prev_y), fps, diss_coeff)"
   ]
  },
  {
   "cell_type": "code",
   "execution_count": null,
   "metadata": {},
   "outputs": [],
   "source": [
    "minmoves = [value.(prev_y), value.(y)];"
   ]
  },
  {
   "cell_type": "code",
   "execution_count": null,
   "metadata": {},
   "outputs": [],
   "source": [
    "@showprogress \"Computing minmoves...\" for step in 3:fps*time_horizon\n",
    "    # update maximal elongation\n",
    "    yval = value.(y)\n",
    "    comp_max_elong_sq = (yval[2:end] - yval[1:end-1]).^2\n",
    "    new_max_elong_sq = max(value.(max_elong_sq), comp_max_elong_sq)\n",
    "    set_value.(max_elong_sq, new_max_elong_sq)\n",
    "    \n",
    "    # check for broken links\n",
    "    new_broken = [max_dist > break_dist ? 1. : 0. for max_dist in new_max_elong_sq]\n",
    "    set_value.(broken, new_broken)\n",
    "    \n",
    "    set_value.(prev_y, value.(y))\n",
    "    \n",
    "    set_normalized_rhs(dirichlet_right, g_right((step-1)/fps))\n",
    "    set_normalized_rhs(dirichlet_left, g_left((step-1)/fps))\n",
    "    \n",
    "    optimize!(minmove_l2)\n",
    "    \n",
    "    push!(minmoves, value.(y))\n",
    "end"
   ]
  },
  {
   "cell_type": "code",
   "execution_count": null,
   "metadata": {},
   "outputs": [],
   "source": [
    "function animate_steps(minmoves, file_name; fps=30, width=600, fontsize=11, scale=1, save_snapshots=false)\n",
    "    experiments_folder = \"experiments\"\n",
    "    if !ispath(experiments_folder)\n",
    "        mkdir(experiments_folder)\n",
    "    end\n",
    "    if save_snapshots\n",
    "        snapshots_folder = \"$experiments_folder/$file_name\"\n",
    "        if !ispath(snapshots_folder)\n",
    "            mkdir(snapshots_folder)\n",
    "        end\n",
    "    end\n",
    "    \n",
    "    aspect = 4\n",
    "    ax_aspect = 4\n",
    "    height = width/aspect\n",
    "    max_right = maximum([y[end] for y in minmoves])\n",
    "    min_left = minimum([y[1] for y in minmoves])\n",
    "    delta = 0.1\n",
    "    max_len = max_right - min_left + 2delta\n",
    "    ax_height = max_len/ax_aspect\n",
    "    N = length(minmoves[1])\n",
    "    \n",
    "    fig = Figure(resolution=(scale*width, scale*height), fontsize=scale*fontsize)\n",
    "    ax = Axis(\n",
    "        fig[1, 1],\n",
    "        limits=(min_left-delta, max_right+delta, -ax_height/2, ax_height/2),\n",
    "        aspect=ax_aspect,\n",
    "    )\n",
    "    \n",
    "    y = zeros(N)\n",
    "    \n",
    "    frame = 1\n",
    "    record(fig, \"experiments/$file_name.mp4\", minmoves; framerate = fps) do (x)\n",
    "        empty!(ax)\n",
    "        scatter!(x, y, color=:blue, markersize=scale*6)\n",
    "        if save_snapshots\n",
    "            save(\"$snapshots_folder/$(file_name)_$frame.pdf\", fig)\n",
    "        end\n",
    "        frame += 1\n",
    "    end\n",
    "end"
   ]
  },
  {
   "cell_type": "code",
   "execution_count": null,
   "metadata": {},
   "outputs": [],
   "source": [
    "animate_steps(\n",
    "    minmoves, file_name, \n",
    "    fps=60, \n",
    "    width=animation_width, \n",
    "    fontsize=fontsize,\n",
    "    scale=hidpi_scaling,\n",
    "    save_snapshots=!only_video\n",
    ")"
   ]
  },
  {
   "cell_type": "code",
   "execution_count": null,
   "metadata": {},
   "outputs": [],
   "source": []
  }
 ],
 "metadata": {
  "kernelspec": {
   "display_name": "Julia 1.7.2",
   "language": "julia",
   "name": "julia-1.7"
  },
  "language_info": {
   "file_extension": ".jl",
   "mimetype": "application/julia",
   "name": "julia",
   "version": "1.7.2"
  }
 },
 "nbformat": 4,
 "nbformat_minor": 2
}
